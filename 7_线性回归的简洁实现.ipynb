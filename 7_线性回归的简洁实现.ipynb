{
 "cells": [
  {
   "cell_type": "code",
   "execution_count": 4,
   "id": "e2ce6941",
   "metadata": {},
   "outputs": [],
   "source": [
    "%matplotlib inline\n",
    "import torch\n",
    "from IPython import display\n",
    "from matplotlib import pyplot as plt\n",
    "import numpy as np\n",
    "import random"
   ]
  },
  {
   "cell_type": "code",
   "execution_count": null,
   "id": "dcee1992",
   "metadata": {},
   "outputs": [],
   "source": [
    "# sequential 连续的\n",
    "# synthetic data合成的数据"
   ]
  },
  {
   "cell_type": "code",
   "execution_count": 50,
   "id": "48dfe12e",
   "metadata": {},
   "outputs": [],
   "source": [
    "# 生成数据集\n",
    "num_inputs = 2\n",
    "num_examples = 1000\n",
    "true_w = [2, -3.4]\n",
    "true_b = 4.2\n",
    "features = torch.tensor(np.random.normal(0, 1, (num_examples, num_inputs)), dtype=torch.float)\n",
    "labels = true_w[0] * features[:, 0] + true_w[1] * features[:, 1] + true_b\n",
    "labels += torch.tensor(np.random.normal(0, 0.01, size=labels.size()), dtype=torch.float)"
   ]
  },
  {
   "cell_type": "code",
   "execution_count": 6,
   "id": "b95772a7",
   "metadata": {},
   "outputs": [],
   "source": [
    "\"\"\"\n",
    "PyTorch提供了data包来读取数据\n",
    "\"\"\"\n",
    "\n",
    "# 读取数据\n",
    "import torch.utils.data as Data\n",
    "\n",
    "batch_size = 10\n",
    "# 将训练数据的特征和标签组合\n",
    "dataset = Data.TensorDataset(features, labels)\n",
    "# 随机读取小批量\n",
    "data_iter = Data.DataLoader(dataset, batch_size, shuffle=True)\n"
   ]
  },
  {
   "cell_type": "code",
   "execution_count": 7,
   "id": "5b51eb49",
   "metadata": {},
   "outputs": [
    {
     "name": "stdout",
     "output_type": "stream",
     "text": [
      "tensor([[ 0.2873,  1.5844],\n",
      "        [ 1.8630, -0.9623],\n",
      "        [-1.5222,  0.6606],\n",
      "        [-2.1451,  0.6497],\n",
      "        [ 0.5533,  0.8830],\n",
      "        [-1.1515,  0.5055],\n",
      "        [-0.6753,  0.5404],\n",
      "        [-1.0459, -1.4009],\n",
      "        [ 0.4299, -1.3397],\n",
      "        [-0.0290, -0.4355]]) tensor([-0.6151, 11.1975, -1.0948, -2.3116,  2.2915,  0.2048,  1.0291,  6.8610,\n",
      "         9.6093,  5.6249])\n"
     ]
    }
   ],
   "source": [
    "# 读取并打印第一个小批量数据样本\n",
    "for X, y in data_iter:\n",
    "    print(X, y)\n",
    "    break\n"
   ]
  },
  {
   "cell_type": "code",
   "execution_count": 17,
   "id": "93596db7",
   "metadata": {},
   "outputs": [
    {
     "name": "stdout",
     "output_type": "stream",
     "text": [
      "LinearNet(\n",
      "  (linear): Linear(in_features=2, out_features=1, bias=True)\n",
      ")\n"
     ]
    }
   ],
   "source": [
    "\n",
    "\"\"\"\n",
    "在上一节从零开始的实现中，我们需要定义模型参数，并使用它们一步步描述\n",
    "模型时怎样计算的。当模型结构变得更复杂时， 这些步骤就变得更繁琐。 \n",
    "其实， PyTorch提供了大量预定义的层，这使我们只需关注使用哪些层来构造\n",
    "模型。 下面将介绍如何使用PyTorch更简洁地定义线性回归。\n",
    "首先，导入torch.nn模块，实际上，'nn'是neural networks(神经网络)\n",
    "的缩写。 顾名思义， 该模块定义了大量神经网络的层，之前我们已经用过了\n",
    "autograd, 而nn就是利用autograd来定义模型，nn的核心数据结构是module,\n",
    "它是一个抽象概念，既可以表示神经网络中的某个层(layer), 也可以表示\n",
    "一个包含很多层的神经网络。在实际使用中，最常用的做法是继承nn.module,\n",
    "撰写自己的网络层。一个nn.module实例应该包含一些层以及返回输出的前向传播\n",
    "（forward）方法。 下面先来看看如何用nn.module实现一个线性回归模型\n",
    "\"\"\"\n",
    "import torch.nn as nn\n",
    "\n",
    "# =======1. 定义模型==================\n",
    "class LinearNet(nn.Module):\n",
    "    def __init__(self, n_feature):\n",
    "        super(LinearNet, self).__init__()\n",
    "        self.linear = nn.Linear(n_feature, 1)\n",
    "    # forward 定义前向传播\n",
    "    def forward(self, x):\n",
    "        y = self.linear(x)\n",
    "        return y\n",
    "\n",
    "net = LinearNet(num_inputs)\n",
    "print(net) # 使用print可以打印出网络的结构\n",
    "\n",
    "\n"
   ]
  },
  {
   "cell_type": "code",
   "execution_count": 9,
   "id": "c9b667d4",
   "metadata": {},
   "outputs": [],
   "source": [
    "\"\"\"\n",
    "我们还可以用nn.Sequential来更加方便地搭建网络， Sequential是一个有序的容器，\n",
    "网络层将按照在传入Sequential的顺序依次被添加到计算图中。\n",
    "\"\"\"\n",
    "# 写法一\n",
    "net = nn.Sequential(\n",
    "    nn.Linear(num_inputs, 1)\n",
    "    # 此处还可以传入其它层\n",
    "    )"
   ]
  },
  {
   "cell_type": "code",
   "execution_count": 23,
   "id": "3c6916fe",
   "metadata": {},
   "outputs": [],
   "source": [
    "# 写法二：\n",
    "net = nn.Sequential()\n",
    "net.add_module('linear', nn.Linear(num_inputs, 1))"
   ]
  },
  {
   "cell_type": "code",
   "execution_count": 38,
   "id": "c09a9574",
   "metadata": {},
   "outputs": [
    {
     "name": "stdout",
     "output_type": "stream",
     "text": [
      "Sequential(\n",
      "  (linear): Linear(in_features=2, out_features=1, bias=True)\n",
      ")\n",
      "Linear(in_features=2, out_features=1, bias=True)\n"
     ]
    }
   ],
   "source": [
    "# 写法三：\n",
    "from collections import OrderedDict\n",
    "net = nn.Sequential(OrderedDict([\n",
    "    ('linear', nn.Linear(num_inputs, 1))\n",
    "    # ...\n",
    "]))\n",
    "print(net)\n",
    "print(net[0])"
   ]
  },
  {
   "cell_type": "code",
   "execution_count": 39,
   "id": "0c62a774",
   "metadata": {},
   "outputs": [
    {
     "name": "stdout",
     "output_type": "stream",
     "text": [
      "Parameter containing:\n",
      "tensor([[-0.5763, -0.2825]], requires_grad=True)\n",
      "Parameter containing:\n",
      "tensor([-0.2649], requires_grad=True)\n"
     ]
    }
   ],
   "source": [
    "# 可以通过net.parameters()来查看模型所有的学习参数，此函数将返回一个生成器\n",
    "for param in net.parameters():\n",
    "    print(param)"
   ]
  },
  {
   "cell_type": "code",
   "execution_count": 40,
   "id": "15a9be69",
   "metadata": {},
   "outputs": [
    {
     "data": {
      "text/plain": [
       "'\\n注意：torch.nn仅支持输入一个batch的样本不支持单个样本输入； 如果只有单个样本，\\n可以使用input.unsqueeze(0)来添加一维\\n'"
      ]
     },
     "execution_count": 40,
     "metadata": {},
     "output_type": "execute_result"
    }
   ],
   "source": [
    "\"\"\"\n",
    "线性回归在神经网络图中的表示，作为一个单层神经网络， 线性回归输出层中的神经元\n",
    "和输入层中各个输入完全连接。因此，线性回归的输出层又叫做全连接层\n",
    "\"\"\"\n",
    "\n",
    "\"\"\"\n",
    "注意：torch.nn仅支持输入一个batch的样本不支持单个样本输入； 如果只有单个样本，\n",
    "可以使用input.unsqueeze(0)来添加一维\n",
    "\"\"\""
   ]
  },
  {
   "cell_type": "code",
   "execution_count": 41,
   "id": "1cb7606a",
   "metadata": {},
   "outputs": [
    {
     "data": {
      "text/plain": [
       "'\\n如果net是用类定义模型的那个代码自定义的，那么上面的代码就会报错，net[0].weight\\n应改为net.linear.weight, bias亦然，因为net[0]这样根据下表访问子模块的写法只有\\n当net是ModuleList或者Sequential实例时才可以。\\n'"
      ]
     },
     "execution_count": 41,
     "metadata": {},
     "output_type": "execute_result"
    }
   ],
   "source": [
    "# =======2. 初始化模型参数==================\n",
    "\"\"\"\n",
    "在使用net前， 我们需要初始化模型采纳数，如线性回归模型中的权重和偏差。 PyTorch\n",
    "在init模块中提供了多种参数初始化的方法。 这里的init是initializer的缩写形式。\n",
    "我们通过init.normal_将权重参数每个元素初始化为随机采样于均值为0，标准差为\n",
    "0.01的正态分布。 偏差会初始化为0\n",
    "\"\"\"\n",
    "from torch.nn import init\n",
    "init.normal_(net[0].weight, mean=0, std=0.01)\n",
    "init.constant_(net[0].bias, val=0) # 也可以：net[0].bias.data.fill_(0)\n",
    "\n",
    "# from torch.nn import init\n",
    "# init.normal_(net.linear.weight, mean=0, std=0.01)\n",
    "# init.constant_(net.linear.bias, val=0) # 也可以：net[0].bias.data.fill_(0)\n",
    "\n",
    "\n",
    "\"\"\"\n",
    "如果net是用类定义模型的那个代码自定义的，那么上面的代码就会报错，net[0].weight\n",
    "应改为net.linear.weight, bias亦然，因为net[0]这样根据下表访问子模块的写法只有\n",
    "当net是ModuleList或者Sequential实例时才可以。\n",
    "\"\"\"\n"
   ]
  },
  {
   "cell_type": "code",
   "execution_count": 42,
   "id": "30d50d0b",
   "metadata": {},
   "outputs": [],
   "source": [
    "# =======3. 定义损失函数=================\n",
    "\"\"\"\n",
    "PyTorch在nn模块中提供了各种损失函数，这些损失函数可看作是一种特殊的层。PyTorch\n",
    "也将这些损失函数实现为nn.Module的子类。 我们现在使用它提供的均方误差损失作为\n",
    "模型的损失函数\"\"\"\n",
    "\n",
    "loss = nn.MSELoss()"
   ]
  },
  {
   "cell_type": "code",
   "execution_count": 44,
   "id": "a3b031b0",
   "metadata": {},
   "outputs": [
    {
     "name": "stdout",
     "output_type": "stream",
     "text": [
      "SGD (\n",
      "Parameter Group 0\n",
      "    dampening: 0\n",
      "    foreach: None\n",
      "    lr: 0.03\n",
      "    maximize: False\n",
      "    momentum: 0\n",
      "    nesterov: False\n",
      "    weight_decay: 0\n",
      ")\n"
     ]
    }
   ],
   "source": [
    "# =======4. 定义优化算法=================\n",
    "\"\"\"\n",
    "同样，我们也无序自己实现小批量随机梯度下降算法，torch.optim模块提供了很多常用\n",
    "的优化算法比如SGD, Adam和RMSProp等。 下面我们创建一个用于优化net所有参数的\n",
    "优化器实例，并指定学习率为0.03的小批量随机梯度下降(SGD)为优化算法\n",
    "\"\"\"\n",
    "import torch.optim as optim\n",
    "optimizer = optim.SGD(net.parameters(), lr=0.03)\n",
    "print(optimizer)\n",
    "\n"
   ]
  },
  {
   "cell_type": "code",
   "execution_count": 43,
   "id": "b6efc320",
   "metadata": {},
   "outputs": [
    {
     "ename": "AttributeError",
     "evalue": "'Sequential' object has no attribute 'subnet1'",
     "output_type": "error",
     "traceback": [
      "\u001b[1;31m---------------------------------------------------------------------------\u001b[0m",
      "\u001b[1;31mAttributeError\u001b[0m                            Traceback (most recent call last)",
      "Cell \u001b[1;32mIn[43], line 6\u001b[0m\n\u001b[0;32m      1\u001b[0m \u001b[38;5;124;03m\"\"\"\u001b[39;00m\n\u001b[0;32m      2\u001b[0m \u001b[38;5;124;03m我们还可以为不同子网络设置不同的学习率，这在finetune经常用到。 例：\u001b[39;00m\n\u001b[0;32m      3\u001b[0m \u001b[38;5;124;03m\"\"\"\u001b[39;00m\n\u001b[0;32m      4\u001b[0m optimizer \u001b[38;5;241m=\u001b[39moptim\u001b[38;5;241m.\u001b[39mSGD([\n\u001b[0;32m      5\u001b[0m                 \u001b[38;5;66;03m# 如果对某个参数不指定学习率，就使用最外层的默认学习率\u001b[39;00m\n\u001b[1;32m----> 6\u001b[0m                 {\u001b[38;5;124m'\u001b[39m\u001b[38;5;124mparams\u001b[39m\u001b[38;5;124m'\u001b[39m: \u001b[43mnet\u001b[49m\u001b[38;5;241;43m.\u001b[39;49m\u001b[43msubnet1\u001b[49m\u001b[38;5;241m.\u001b[39mparameters()}, \u001b[38;5;66;03m# lr=0.03\u001b[39;00m\n\u001b[0;32m      7\u001b[0m                 {\u001b[38;5;124m'\u001b[39m\u001b[38;5;124mparams\u001b[39m\u001b[38;5;124m'\u001b[39m: net\u001b[38;5;241m.\u001b[39msubnet2\u001b[38;5;241m.\u001b[39mparameters(), \u001b[38;5;124m'\u001b[39m\u001b[38;5;124mlr\u001b[39m\u001b[38;5;124m'\u001b[39m: \u001b[38;5;241m0.01\u001b[39m}\n\u001b[0;32m      8\u001b[0m             ], lr\u001b[38;5;241m=\u001b[39m\u001b[38;5;241m0.03\u001b[39m)\n",
      "File \u001b[1;32mC:\\ProgramData\\anaconda3\\lib\\site-packages\\torch\\nn\\modules\\module.py:1207\u001b[0m, in \u001b[0;36mModule.__getattr__\u001b[1;34m(self, name)\u001b[0m\n\u001b[0;32m   1205\u001b[0m     \u001b[38;5;28;01mif\u001b[39;00m name \u001b[38;5;129;01min\u001b[39;00m modules:\n\u001b[0;32m   1206\u001b[0m         \u001b[38;5;28;01mreturn\u001b[39;00m modules[name]\n\u001b[1;32m-> 1207\u001b[0m \u001b[38;5;28;01mraise\u001b[39;00m \u001b[38;5;167;01mAttributeError\u001b[39;00m(\u001b[38;5;124m\"\u001b[39m\u001b[38;5;124m'\u001b[39m\u001b[38;5;132;01m{}\u001b[39;00m\u001b[38;5;124m'\u001b[39m\u001b[38;5;124m object has no attribute \u001b[39m\u001b[38;5;124m'\u001b[39m\u001b[38;5;132;01m{}\u001b[39;00m\u001b[38;5;124m'\u001b[39m\u001b[38;5;124m\"\u001b[39m\u001b[38;5;241m.\u001b[39mformat(\n\u001b[0;32m   1208\u001b[0m     \u001b[38;5;28mtype\u001b[39m(\u001b[38;5;28mself\u001b[39m)\u001b[38;5;241m.\u001b[39m\u001b[38;5;18m__name__\u001b[39m, name))\n",
      "\u001b[1;31mAttributeError\u001b[0m: 'Sequential' object has no attribute 'subnet1'"
     ]
    }
   ],
   "source": [
    "\"\"\"\n",
    "我们还可以为不同子网络设置不同的学习率，这在finetune经常用到。 例：\n",
    "\"\"\"\n",
    "optimizer =optim.SGD([\n",
    "                # 如果对某个参数不指定学习率，就使用最外层的默认学习率\n",
    "                {'params': net.subnet1.parameters()}, # lr=0.03\n",
    "                {'params': net.subnet2.parameters(), 'lr': 0.01}\n",
    "            ], lr=0.03)\n"
   ]
  },
  {
   "cell_type": "code",
   "execution_count": 45,
   "id": "b7cf7587",
   "metadata": {},
   "outputs": [],
   "source": [
    "\"\"\"\n",
    "有时候我们不想让学习率固定成一个常数， 那如何调整学习率呢？ 主要有两种做法，一种是修改\n",
    "optimizer.param_groups中对应的学习率，另一种是更简单也是较为推荐的做法--新建优化器，\n",
    "由于optimizer十分轻量级，构建开销很小，故而可以构建新的optimizer， 但是后者对于使用\n",
    "动量的优化器(如Adam), 会丢失动量等状态信息，可能会造成损失函数的收敛出现震荡等情况\n",
    "\"\"\"\n",
    "\n",
    "# 调整学习率\n",
    "for param_group in optimizer.param_groups:\n",
    "    param_group['lr'] *= 0.1  # 学习率为之前的0.1倍"
   ]
  },
  {
   "cell_type": "code",
   "execution_count": 47,
   "id": "bdb57c0e",
   "metadata": {},
   "outputs": [
    {
     "name": "stdout",
     "output_type": "stream",
     "text": [
      "epoch 1, loss: 8.793560\n",
      "epoch 2, loss: 2.885707\n",
      "epoch 3, loss: 0.572145\n"
     ]
    }
   ],
   "source": [
    "# =======5. 训练模型=================\n",
    "\"\"\"在使用Gluon训练模型时，我们通过调用optim实例的step函数来迭代模型参数。按照小批量随机梯度\n",
    "下降的定义。我们在step函数中指明批量大小，从而对批量中样本梯度求平均\"\"\"\n",
    "\n",
    "num_epochs = 3\n",
    "for epoch in range(1, num_epochs+1):\n",
    "    for X, y in data_iter:\n",
    "        output = net(X)\n",
    "        l = loss(output, y.view(-1,1))\n",
    "        optimizer.zero_grad() # 梯度清零，等价于net.zero_grad()\n",
    "        l.backward()\n",
    "        optimizer.step()\n",
    "        \n",
    "    print('epoch %d, loss: %f' % (epoch, l.item()))\n"
   ]
  },
  {
   "cell_type": "code",
   "execution_count": 48,
   "id": "74dd76e1",
   "metadata": {},
   "outputs": [
    {
     "name": "stdout",
     "output_type": "stream",
     "text": [
      "[2, -3.4] Parameter containing:\n",
      "tensor([[ 1.7728, -2.9196]], requires_grad=True)\n",
      "4.2 Parameter containing:\n",
      "tensor([3.5580], requires_grad=True)\n"
     ]
    }
   ],
   "source": [
    "\"\"\"\n",
    "下面我们分别比较学到的模型采纳数和真实的模型参数，我们从net获得需要的层，并访问其权重(weight)\n",
    "和偏差(bias). 学到的参数和真实的参数很接近\n",
    "\n",
    "\"\"\"\n",
    "\n",
    "dense = net[0]\n",
    "print(true_w, dense.weight)\n",
    "print(true_b, dense.bias)\n",
    "\n"
   ]
  },
  {
   "cell_type": "code",
   "execution_count": null,
   "id": "cdfbbc98",
   "metadata": {},
   "outputs": [],
   "source": [
    "\"\"\"\n",
    "小结：\n",
    "1. 使用PyTorch可以更简洁地实现模型\n",
    "2. torch.utils.data模块提供了有关数据处理的工具，torch.nn模块定义了大量神经网络的\n",
    "层。 torch.nn.init模块定义了各种初始化方法，torch.optim模块提供了很多常用的优化算法。\n",
    "\n",
    "\"\"\""
   ]
  }
 ],
 "metadata": {
  "kernelspec": {
   "display_name": "Python 3 (ipykernel)",
   "language": "python",
   "name": "python3"
  },
  "language_info": {
   "codemirror_mode": {
    "name": "ipython",
    "version": 3
   },
   "file_extension": ".py",
   "mimetype": "text/x-python",
   "name": "python",
   "nbconvert_exporter": "python",
   "pygments_lexer": "ipython3",
   "version": "3.10.9"
  }
 },
 "nbformat": 4,
 "nbformat_minor": 5
}
