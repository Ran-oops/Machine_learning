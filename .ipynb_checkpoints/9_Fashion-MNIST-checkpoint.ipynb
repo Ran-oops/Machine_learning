{
 "cells": [
  {
   "cell_type": "code",
   "execution_count": null,
   "id": "0c17ca78",
   "metadata": {},
   "outputs": [],
   "source": [
    "\"\"\"0. 图像分类数据集(Fashion-MNIST)\n",
    "在介绍softmax回归的实现前我们先引入一个 多类图像分类数据集。 它将在后面的章节\n",
    "中被多次使用，以方便我们观察比较算法之间的模型精度和计算效率上的区别。图像分类\n",
    "数据集中最常用的是手写数字识别数据集MNIST[1]. 但大部分模型在MNIST上的分类精度\n",
    "都超过了95%。 为了更直观地观察算法之间的差别，我们将使用一个图像内容更加复杂的\n",
    "数据集Fashion-MNIST[2](这个数据集也比较小，只有几十M, 没有GPU的电脑也能吃得消)。\n",
    "本节我们将使用torchvision包，它是服务于Pytorch深度学习框架的，主要用来构建\n",
    "计算机视觉模型。Torchvision主要由以下几部分构成：\n",
    "\n",
    "1. torchvision.datasets: 一些记载数据的函数和常用的数据集接口\n",
    "2. torchvision.models: 包含常用的模型结构(含预训练模型)， 例如 AlexNet, \n",
    "VGG, ResNet等\n",
    "3.torchvision.transforms: 常用的图片变换，例如剪裁，旋转等\n",
    "4. torchvison.utils: 其他的一些有用的方法\n",
    "\n",
    "\"\"\""
   ]
  },
  {
   "cell_type": "code",
   "execution_count": null,
   "id": "bffc5f85",
   "metadata": {},
   "outputs": [],
   "source": [
    "\"\"\"补充知识\n",
    "AlexNet， VGG, ResNet都是卷积神经网络(CNN)的架构\n",
    "1.AlexNet:由Alex Krizhevsky等人于2012年提出，它以很大优势获得了ImageNet比赛的\n",
    "冠军。 它具有更深的网络结构，包括5层卷积和3层全连接，并使用了数据增广， Dropout\n",
    "和ReLU激活函数等方法来改进模型的训练过程。\n",
    "\n",
    "2.VGG：Visual Geometry(几何学) Group的缩写， 它是当前最流行的CNN模型之一。VGG通过使用一系列大小为3x3的小尺寸卷积核\n",
    "和pooling层构造深度卷积神经网络，并取得了较好的效果，它因为结构简单，应用性极强\n",
    "而广受研究者欢迎\n",
    "\n",
    "3.ResNet: Residual Network的缩写， 它是一种具有残差学习能力的深度卷积神经网络。它通过在网络中引入\n",
    "“跳跃连接”， 使得网络可以更好地学习残差函数，从而解决了深度神经网络中梯度消失\n",
    "和梯度爆炸的问题。 ResNet在ImageNet比赛中获得了冠军，并在多个视觉任务中取得了\n",
    "优异的成绩\n",
    "\"\"\""
   ]
  },
  {
   "cell_type": "code",
   "execution_count": 1,
   "id": "c321ebec",
   "metadata": {},
   "outputs": [
    {
     "data": {
      "text/plain": [
       "'1. 获取数据集\\n首先导入需要的包\\n'"
      ]
     },
     "execution_count": 1,
     "metadata": {},
     "output_type": "execute_result"
    }
   ],
   "source": [
    "\"\"\"1. 获取数据集\n",
    "首先导入需要的包\n",
    "我们还指定了参数transform = transforms.ToTensor()使所有数据转换为Tensor,\n",
    "如果不进行转换则返回的是PIL图片。 transforms.ToTensor()将尺寸为(HxWxC)且\n",
    "数据位于[0, 255]的PIL图片或者数据类型为np.uint8的NumPy数组转换为尺寸为（CxHxW）\n",
    "且数据类型为torch.float32且位于[0.0, 1.0]的Tensor\n",
    "\"\"\""
   ]
  },
  {
   "cell_type": "code",
   "execution_count": 1,
   "id": "844dc539",
   "metadata": {},
   "outputs": [],
   "source": [
    "%matplotlib inline\n",
    "import torch\n",
    "import torchvision\n",
    "from torch.utils import data\n",
    "from torchvision import transforms\n",
    "from d2l import torch as d2l\n",
    "\n",
    "d2l.use_svg_display()"
   ]
  },
  {
   "cell_type": "code",
   "execution_count": 2,
   "id": "8ac2c295",
   "metadata": {},
   "outputs": [
    {
     "name": "stdout",
     "output_type": "stream",
     "text": [
      "Downloading http://fashion-mnist.s3-website.eu-central-1.amazonaws.com/train-images-idx3-ubyte.gz\n",
      "Downloading http://fashion-mnist.s3-website.eu-central-1.amazonaws.com/train-images-idx3-ubyte.gz to C:\\Users\\sunya\\Desktop\\Machine_learning\\data\\FashionMNIST\\raw\\train-images-idx3-ubyte.gz\n"
     ]
    },
    {
     "name": "stderr",
     "output_type": "stream",
     "text": [
      "100.0%\n"
     ]
    },
    {
     "name": "stdout",
     "output_type": "stream",
     "text": [
      "Extracting C:\\Users\\sunya\\Desktop\\Machine_learning\\data\\FashionMNIST\\raw\\train-images-idx3-ubyte.gz to C:\\Users\\sunya\\Desktop\\Machine_learning\\data\\FashionMNIST\\raw\n",
      "\n",
      "Downloading http://fashion-mnist.s3-website.eu-central-1.amazonaws.com/train-labels-idx1-ubyte.gz\n",
      "Downloading http://fashion-mnist.s3-website.eu-central-1.amazonaws.com/train-labels-idx1-ubyte.gz to C:\\Users\\sunya\\Desktop\\Machine_learning\\data\\FashionMNIST\\raw\\train-labels-idx1-ubyte.gz\n"
     ]
    },
    {
     "name": "stderr",
     "output_type": "stream",
     "text": [
      "100.0%\n"
     ]
    },
    {
     "name": "stdout",
     "output_type": "stream",
     "text": [
      "Extracting C:\\Users\\sunya\\Desktop\\Machine_learning\\data\\FashionMNIST\\raw\\train-labels-idx1-ubyte.gz to C:\\Users\\sunya\\Desktop\\Machine_learning\\data\\FashionMNIST\\raw\n",
      "\n",
      "Downloading http://fashion-mnist.s3-website.eu-central-1.amazonaws.com/t10k-images-idx3-ubyte.gz\n",
      "Downloading http://fashion-mnist.s3-website.eu-central-1.amazonaws.com/t10k-images-idx3-ubyte.gz to C:\\Users\\sunya\\Desktop\\Machine_learning\\data\\FashionMNIST\\raw\\t10k-images-idx3-ubyte.gz\n"
     ]
    },
    {
     "name": "stderr",
     "output_type": "stream",
     "text": [
      "100.0%\n"
     ]
    },
    {
     "name": "stdout",
     "output_type": "stream",
     "text": [
      "Extracting C:\\Users\\sunya\\Desktop\\Machine_learning\\data\\FashionMNIST\\raw\\t10k-images-idx3-ubyte.gz to C:\\Users\\sunya\\Desktop\\Machine_learning\\data\\FashionMNIST\\raw\n",
      "\n",
      "Downloading http://fashion-mnist.s3-website.eu-central-1.amazonaws.com/t10k-labels-idx1-ubyte.gz\n",
      "Downloading http://fashion-mnist.s3-website.eu-central-1.amazonaws.com/t10k-labels-idx1-ubyte.gz to C:\\Users\\sunya\\Desktop\\Machine_learning\\data\\FashionMNIST\\raw\\t10k-labels-idx1-ubyte.gz\n"
     ]
    },
    {
     "name": "stderr",
     "output_type": "stream",
     "text": [
      "\r",
      "100.0%"
     ]
    },
    {
     "name": "stdout",
     "output_type": "stream",
     "text": [
      "Extracting C:\\Users\\sunya\\Desktop\\Machine_learning\\data\\FashionMNIST\\raw\\t10k-labels-idx1-ubyte.gz to C:\\Users\\sunya\\Desktop\\Machine_learning\\data\\FashionMNIST\\raw\n",
      "\n"
     ]
    },
    {
     "name": "stderr",
     "output_type": "stream",
     "text": [
      "\n"
     ]
    }
   ],
   "source": [
    "trans = transforms.ToTensor()\n",
    "mnist_train = torchvision.datasets.FashionMNIST(\n",
    "    root=r\"C:\\Users\\sunya\\Desktop\\Machine_learning\\data\", train=True, transform=trans, download=True)\n",
    "mnist_test = torchvision.datasets.FashionMNIST(\n",
    "    root=r\"C:\\Users\\sunya\\Desktop\\Machine_learning\\data\", train=False, transform=trans, download=True)"
   ]
  },
  {
   "cell_type": "code",
   "execution_count": null,
   "id": "96fb98d7",
   "metadata": {},
   "outputs": [],
   "source": [
    "\"\"\"\n",
    "Fashion-MNIST由10个类别的图像组成， 每个类别由训练数据集(train dataset)\n",
    "中的6000张图像和测试数据集(test dataset)中的1000张图像组成。因此，训练集\n",
    "和测试集分别包含60000和10000张图像。 测试数据集不会用于训练，只用于评估模型性能\n",
    "\"\"\""
   ]
  },
  {
   "cell_type": "code",
   "execution_count": 3,
   "id": "7f4d20ca",
   "metadata": {},
   "outputs": [
    {
     "name": "stdout",
     "output_type": "stream",
     "text": [
      "60000\n",
      "10000\n"
     ]
    }
   ],
   "source": [
    "print(len(mnist_train))\n",
    "print(len(mnist_test))"
   ]
  },
  {
   "cell_type": "code",
   "execution_count": 4,
   "id": "c8ea480e",
   "metadata": {},
   "outputs": [
    {
     "data": {
      "text/plain": [
       "torchvision.datasets.mnist.FashionMNIST"
      ]
     },
     "execution_count": 4,
     "metadata": {},
     "output_type": "execute_result"
    }
   ],
   "source": [
    "type(mnist_train)"
   ]
  },
  {
   "cell_type": "code",
   "execution_count": 5,
   "id": "3487937e",
   "metadata": {},
   "outputs": [
    {
     "data": {
      "text/plain": [
       "torch.Size([1, 28, 28])"
      ]
     },
     "execution_count": 5,
     "metadata": {},
     "output_type": "execute_result"
    }
   ],
   "source": [
    "# 每个输入图像的高度和宽度均为28像素。 数据集由灰度图像组成，其通道数为1。 为了\n",
    "#简洁起见，本书将高度h像素，宽度w像素图像的形状记为h x w或(h, w)\n",
    "mnist_train[0][0].shape\n"
   ]
  },
  {
   "cell_type": "code",
   "execution_count": null,
   "id": "f282d907",
   "metadata": {},
   "outputs": [],
   "source": [
    "\"\"\"\n",
    "像素是数字图像中的最小单元。它是图像中的一个点，表示图像中的采样颜色。像素常\n",
    "用来表示图像的分辨率。一张分辨率为1920x1080的图像包含1920x1080=2073600个像素。\n",
    "\n",
    "对于灰度图像，通道数是1，因为每个像素只有一个灰度值表示其亮度。\n",
    "图像的通道数是指图像像素值的维度。对于彩色图像，其通道数是3(RGB),因为每个像素\n",
    "由三个通道(红绿蓝)的像素值组成，分别表示颜色的强度\n",
    "\"\"\""
   ]
  }
 ],
 "metadata": {
  "kernelspec": {
   "display_name": "Python 3 (ipykernel)",
   "language": "python",
   "name": "python3"
  },
  "language_info": {
   "codemirror_mode": {
    "name": "ipython",
    "version": 3
   },
   "file_extension": ".py",
   "mimetype": "text/x-python",
   "name": "python",
   "nbconvert_exporter": "python",
   "pygments_lexer": "ipython3",
   "version": "3.9.17"
  }
 },
 "nbformat": 4,
 "nbformat_minor": 5
}
