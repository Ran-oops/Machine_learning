{
 "cells": [
  {
   "cell_type": "code",
   "execution_count": 1,
   "id": "95b0681e",
   "metadata": {},
   "outputs": [
    {
     "name": "stdout",
     "output_type": "stream",
     "text": [
      "Original DataFrame:\n",
      "   color\n",
      "0    red\n",
      "1  green\n",
      "2   blue\n",
      "3    red\n",
      "4  green\n",
      "Encoded DataFrame:\n",
      "   color_blue  color_green  color_red\n",
      "0           0            0          1\n",
      "1           0            1          0\n",
      "2           1            0          0\n",
      "3           0            0          1\n",
      "4           0            1          0\n"
     ]
    }
   ],
   "source": [
    "import pandas as pd\n",
    "\n",
    "# 创建一个包含类别数据的数据框\n",
    "data = {'color': ['red', 'green', 'blue', 'red', 'green']}\n",
    "df = pd.DataFrame(data)\n",
    "\n",
    "# 查看原始数据框\n",
    "print('Original DataFrame:')\n",
    "print(df)\n",
    "\n",
    "# 使用 pandas 的 get_dummies 函数进行独热编码\n",
    "df_encoded = pd.get_dummies(df)\n",
    "\n",
    "# 查看编码后的数据框\n",
    "print('Encoded DataFrame:')\n",
    "print(df_encoded)"
   ]
  },
  {
   "cell_type": "code",
   "execution_count": 2,
   "id": "f87683b1",
   "metadata": {},
   "outputs": [
    {
     "name": "stdout",
     "output_type": "stream",
     "text": [
      "Looking in indexes: https://pypi.tuna.tsinghua.edu.cn/simple/, http://mirrors.aliyun.com/pypi/simple/, http://pypi.douban.com/simple, http://pypi.mirrors.ustc.edu.cn/simple/Note: you may need to restart the kernel to use updated packages.\n",
      "\n",
      "Requirement already satisfied: scikit-learn in c:\\users\\sunya\\appdata\\local\\programs\\python\\python311\\lib\\site-packages (1.2.1)\n",
      "Requirement already satisfied: numpy>=1.17.3 in c:\\users\\sunya\\appdata\\local\\programs\\python\\python311\\lib\\site-packages (from scikit-learn) (1.24.1)\n",
      "Requirement already satisfied: scipy>=1.3.2 in c:\\users\\sunya\\appdata\\local\\programs\\python\\python311\\lib\\site-packages (from scikit-learn) (1.10.1)\n",
      "Requirement already satisfied: joblib>=1.1.1 in c:\\users\\sunya\\appdata\\local\\programs\\python\\python311\\lib\\site-packages (from scikit-learn) (1.2.0)\n",
      "Requirement already satisfied: threadpoolctl>=2.0.0 in c:\\users\\sunya\\appdata\\local\\programs\\python\\python311\\lib\\site-packages (from scikit-learn) (3.1.0)\n"
     ]
    }
   ],
   "source": [
    "pip install scikit-learn"
   ]
  },
  {
   "cell_type": "code",
   "execution_count": 3,
   "id": "c253157b",
   "metadata": {},
   "outputs": [
    {
     "name": "stdout",
     "output_type": "stream",
     "text": [
      "[0.7661709  0.95014867 0.89169925 0.85918076 0.87250909]\n"
     ]
    }
   ],
   "source": [
    "from sklearn.model_selection import cross_val_score\n",
    "from sklearn.linear_model import LinearRegression\n",
    "import numpy as np\n",
    "\n",
    "# 生成一些样本数据\n",
    "np.random.seed(0)\n",
    "X = np.random.randn(100, 1)\n",
    "y = 3 * X.squeeze() + 2 + np.random.randn(100)\n",
    "\n",
    "# 创建一个线性回归模型\n",
    "model = LinearRegression()\n",
    "\n",
    "# 使用交叉验证来估计模型在新数据上的表现\n",
    "scores = cross_val_score(model, X, y, cv=5)\n",
    "\n",
    "# 输出结果\n",
    "print(scores)"
   ]
  },
  {
   "cell_type": "code",
   "execution_count": 2,
   "id": "0a3efdc6",
   "metadata": {},
   "outputs": [
    {
     "name": "stdout",
     "output_type": "stream",
     "text": [
      "Accuracy: 0.9473684210526315\n"
     ]
    }
   ],
   "source": [
    "from sklearn.datasets import load_iris\n",
    "from sklearn.linear_model import LogisticRegression\n",
    "from sklearn.model_selection import train_test_split\n",
    "\n",
    "# 加载数据集\n",
    "iris = load_iris()\n",
    "X = iris.data\n",
    "y = iris.target\n",
    "\n",
    "# 划分训练集和测试集\n",
    "X_train, X_test, y_train, y_test = train_test_split(X, y)\n",
    "\n",
    "# 调整参数并训练模型\n",
    "clf = LogisticRegression(fit_intercept=True, C=1e15)\n",
    "clf.fit(X_train, y_train)\n",
    "\n",
    "# 预测结果并评估模型性能\n",
    "y_pred = clf.predict(X_test)\n",
    "score = clf.score(X_test, y_test)\n",
    "print('Accuracy:', score)"
   ]
  },
  {
   "cell_type": "code",
   "execution_count": 6,
   "id": "a8571bc6",
   "metadata": {},
   "outputs": [
    {
     "data": {
      "text/plain": [
       "array([2, 2, 2, 1, 0, 1, 0, 0, 1, 0, 1, 0, 0, 1, 2, 0, 2, 1, 2, 2, 2, 1,\n",
       "       1, 2, 0, 1, 0, 0, 2, 0, 0, 2, 1, 1, 1, 2, 1, 1])"
      ]
     },
     "execution_count": 6,
     "metadata": {},
     "output_type": "execute_result"
    }
   ],
   "source": [
    "y_pred"
   ]
  },
  {
   "cell_type": "code",
   "execution_count": 7,
   "id": "50c14d2e",
   "metadata": {},
   "outputs": [
    {
     "name": "stdout",
     "output_type": "stream",
     "text": [
      "True parameters: [ 1. -2.]\n",
      "Estimated parameters: [ 0.92896407 -1.7705747 ]\n"
     ]
    }
   ],
   "source": [
    "# 极大似然估计法求解逻辑回归模型中的参数\n",
    "\n",
    "import numpy as np\n",
    "from scipy.optimize import minimize\n",
    "\n",
    "def sigmoid(x):\n",
    "    return 1 / (1 + np.exp(-x))\n",
    "\n",
    "def likelihood_function(beta, X, y):\n",
    "    p = sigmoid(np.dot(X, beta))\n",
    "    return -np.sum(y * np.log(p) + (1 - y) * np.log(1 - p))\n",
    "\n",
    "# 生成模拟数据\n",
    "np.random.seed(0)\n",
    "N = 100\n",
    "X = np.random.randn(N, 2)\n",
    "beta_true = np.array([1.0, -2.0])\n",
    "y = (np.random.rand(N) < sigmoid(np.dot(X, beta_true))).astype(int)\n",
    "\n",
    "# 求解参数\n",
    "beta_initial = np.zeros(X.shape[1])\n",
    "result = minimize(likelihood_function, beta_initial, args=(X,y), method='BFGS')\n",
    "beta_hat = result.x\n",
    "\n",
    "print(\"True parameters:\", beta_true)\n",
    "print(\"Estimated parameters:\", beta_hat)"
   ]
  },
  {
   "cell_type": "code",
   "execution_count": 8,
   "id": "689b0740",
   "metadata": {},
   "outputs": [
    {
     "name": "stdout",
     "output_type": "stream",
     "text": [
      "Training score: 0.9642857142857143\n",
      "Testing score: 1.0\n"
     ]
    },
    {
     "name": "stderr",
     "output_type": "stream",
     "text": [
      "C:\\Users\\sunya\\AppData\\Local\\Programs\\Python\\Python311\\Lib\\site-packages\\sklearn\\linear_model\\_logistic.py:458: ConvergenceWarning: lbfgs failed to converge (status=1):\n",
      "STOP: TOTAL NO. of ITERATIONS REACHED LIMIT.\n",
      "\n",
      "Increase the number of iterations (max_iter) or scale the data as shown in:\n",
      "    https://scikit-learn.org/stable/modules/preprocessing.html\n",
      "Please also refer to the documentation for alternative solver options:\n",
      "    https://scikit-learn.org/stable/modules/linear_model.html#logistic-regression\n",
      "  n_iter_i = _check_optimize_result(\n"
     ]
    }
   ],
   "source": [
    "# 使用sklearn库中的LogisticRegression类进行逻辑回归\n",
    "from sklearn.datasets import load_iris\n",
    "from sklearn.linear_model import LogisticRegression\n",
    "from sklearn.model_selection import train_test_split\n",
    "\n",
    "# 加载数据\n",
    "iris = load_iris()\n",
    "X = iris.data\n",
    "y = iris.target\n",
    "\n",
    "# 划分训练集和测试集\n",
    "X_train, X_test, y_train, y_test = train_test_split(X, y)\n",
    "\n",
    "# 建立模型并拟合数据\n",
    "clf = LogisticRegression()\n",
    "clf.fit(X_train, y_train)\n",
    "\n",
    "# 评估模型性能\n",
    "print('Training score:', clf.score(X_train, y_train))\n",
    "print('Testing score:', clf.score(X_test, y_test))"
   ]
  },
  {
   "cell_type": "code",
   "execution_count": 9,
   "id": "2ee40f0d",
   "metadata": {},
   "outputs": [
    {
     "data": {
      "text/plain": [
       "array([1, 0, 0, 2, 0, 0, 1, 0, 2, 1, 0, 1, 1, 1, 2, 2, 2, 2, 0, 2, 2, 2,\n",
       "       2, 1, 1, 0, 2, 2, 0, 0, 2, 2, 0, 0, 2, 0, 0, 0, 2, 0, 1, 1, 2, 2,\n",
       "       2, 1, 0, 2, 0, 1, 1, 2, 0, 1, 0, 1, 0, 1, 1, 1, 2, 1, 0, 2, 0, 1,\n",
       "       2, 1, 2, 1, 0, 0, 2, 2, 1, 1, 0, 2, 1, 2, 1, 2, 2, 1, 0, 1, 1, 0,\n",
       "       1, 0, 1, 0, 0, 1, 1, 2, 2, 0, 1, 0, 1, 1, 1, 0, 2, 0, 1, 1, 2, 0,\n",
       "       2, 2])"
      ]
     },
     "execution_count": 9,
     "metadata": {},
     "output_type": "execute_result"
    }
   ],
   "source": [
    "y_train"
   ]
  },
  {
   "cell_type": "code",
   "execution_count": 10,
   "id": "8cb9acfb",
   "metadata": {},
   "outputs": [
    {
     "name": "stdout",
     "output_type": "stream",
     "text": [
      "[0 0]\n",
      "[[9.81810819e-01 1.81891663e-02 1.44226885e-08]\n",
      " [9.71750652e-01 2.82493178e-02 3.01583887e-08]]\n"
     ]
    },
    {
     "name": "stderr",
     "output_type": "stream",
     "text": [
      "C:\\Users\\sunya\\AppData\\Local\\Programs\\Python\\Python311\\Lib\\site-packages\\sklearn\\linear_model\\_logistic.py:458: ConvergenceWarning: lbfgs failed to converge (status=1):\n",
      "STOP: TOTAL NO. of ITERATIONS REACHED LIMIT.\n",
      "\n",
      "Increase the number of iterations (max_iter) or scale the data as shown in:\n",
      "    https://scikit-learn.org/stable/modules/preprocessing.html\n",
      "Please also refer to the documentation for alternative solver options:\n",
      "    https://scikit-learn.org/stable/modules/linear_model.html#logistic-regression\n",
      "  n_iter_i = _check_optimize_result(\n"
     ]
    }
   ],
   "source": [
    "from sklearn.datasets import load_iris\n",
    "from sklearn.linear_model import LogisticRegression\n",
    "\n",
    "X, y = load_iris(return_X_y=True)\n",
    "clf = LogisticRegression(random_state=0).fit(X, y)\n",
    "print(clf.predict(X[:2, :]))\n",
    "print(clf.predict_proba(X[:2, :]))"
   ]
  },
  {
   "cell_type": "code",
   "execution_count": 11,
   "id": "b08b53dc",
   "metadata": {},
   "outputs": [
    {
     "name": "stdout",
     "output_type": "stream",
     "text": [
      "[0]\n"
     ]
    }
   ],
   "source": [
    "from sklearn.datasets import load_iris\n",
    "from sklearn.linear_model import LogisticRegression\n",
    "\n",
    "# 加载数据集\n",
    "X, y = load_iris(return_X_y=True)\n",
    "\n",
    "# 创建逻辑回归模型\n",
    "clf = LogisticRegression(random_state=0, multi_class='ovr')\n",
    "\n",
    "# 训练模型\n",
    "clf.fit(X, y)\n",
    "\n",
    "# 预测新数据\n",
    "print(clf.predict([[5.0, 3.5, 1.3, 0.3]]))"
   ]
  },
  {
   "cell_type": "code",
   "execution_count": 12,
   "id": "93321a62",
   "metadata": {},
   "outputs": [
    {
     "name": "stdout",
     "output_type": "stream",
     "text": [
      "[0]\n"
     ]
    },
    {
     "name": "stderr",
     "output_type": "stream",
     "text": [
      "C:\\Users\\sunya\\AppData\\Local\\Programs\\Python\\Python311\\Lib\\site-packages\\sklearn\\linear_model\\_logistic.py:458: ConvergenceWarning: lbfgs failed to converge (status=1):\n",
      "STOP: TOTAL NO. of ITERATIONS REACHED LIMIT.\n",
      "\n",
      "Increase the number of iterations (max_iter) or scale the data as shown in:\n",
      "    https://scikit-learn.org/stable/modules/preprocessing.html\n",
      "Please also refer to the documentation for alternative solver options:\n",
      "    https://scikit-learn.org/stable/modules/linear_model.html#logistic-regression\n",
      "  n_iter_i = _check_optimize_result(\n"
     ]
    }
   ],
   "source": [
    "from sklearn.datasets import load_iris\n",
    "from sklearn.linear_model import LogisticRegression\n",
    "\n",
    "# 加载数据集\n",
    "X, y = load_iris(return_X_y=True)\n",
    "\n",
    "# 创建逻辑回归模型\n",
    "clf = LogisticRegression(random_state=0, multi_class='multinomial')\n",
    "\n",
    "# 训练模型\n",
    "clf.fit(X, y)\n",
    "\n",
    "# 预测新数据\n",
    "print(clf.predict([[5.0, 3.5, 1.3, 0.3]]))"
   ]
  },
  {
   "cell_type": "code",
   "execution_count": 22,
   "id": "a0ce8a83",
   "metadata": {},
   "outputs": [
    {
     "name": "stdout",
     "output_type": "stream",
     "text": [
      "['政治']\n"
     ]
    }
   ],
   "source": [
    "from sklearn.naive_bayes import MultinomialNB\n",
    "from sklearn.feature_extraction.text import CountVectorizer\n",
    "from sklearn.pipeline import Pipeline\n",
    "\n",
    "# 训练数据\n",
    "X_train = ['这是一篇关于体育的文章', '这是一篇关于政治的文章', '这是一篇关于科技的文章']\n",
    "y_train = ['体育', '政治', '科技']\n",
    "\n",
    "# 测试数据\n",
    "X_test = ['这是一篇关于政治的文章']\n",
    "\n",
    "# 创建管道，包括特征提取和分类器\n",
    "text_clf = Pipeline([('vect', CountVectorizer()), ('clf', MultinomialNB())])\n",
    "\n",
    "# 训练模型\n",
    "text_clf.fit(X_train, y_train)\n",
    "\n",
    "# 预测测试数据类别\n",
    "predicted = text_clf.predict(X_test)\n",
    "print(predicted) # 输出: ['政治']"
   ]
  },
  {
   "cell_type": "code",
   "execution_count": null,
   "id": "c765d665",
   "metadata": {},
   "outputs": [],
   "source": []
  },
  {
   "cell_type": "code",
   "execution_count": 23,
   "id": "f4939c52",
   "metadata": {},
   "outputs": [
    {
     "name": "stdout",
     "output_type": "stream",
     "text": [
      "[0]\n"
     ]
    }
   ],
   "source": [
    "from sklearn.ensemble import RandomForestClassifier\n",
    "from sklearn.datasets import load_iris\n",
    "\n",
    "iris = load_iris()\n",
    "X = iris.data\n",
    "y = iris.target\n",
    "\n",
    "clf = RandomForestClassifier(n_estimators=10)\n",
    "clf.fit(X, y)\n",
    "\n",
    "print(clf.predict([[5.0, 3.6, 1.4, 0.2]]))"
   ]
  },
  {
   "cell_type": "code",
   "execution_count": 25,
   "id": "58b38791",
   "metadata": {},
   "outputs": [
    {
     "name": "stdout",
     "output_type": "stream",
     "text": [
      "[1]\n"
     ]
    }
   ],
   "source": [
    "from sklearn.ensemble import AdaBoostClassifier\n",
    "from sklearn.datasets import make_classification\n",
    "\n",
    "# 生成一些数据\n",
    "X, y = make_classification(n_features=4, n_redundant=0, n_informative=2,\n",
    "                           random_state=1, n_clusters_per_class=1)\n",
    "\n",
    "# 创建并训练 AdaBoost 分类器\n",
    "clf = AdaBoostClassifier(n_estimators=100)\n",
    "clf.fit(X, y)\n",
    "\n",
    "# 对新数据进行预测\n",
    "print(clf.predict([[0, 0, 0, 0]]))"
   ]
  },
  {
   "cell_type": "code",
   "execution_count": 26,
   "id": "87123694",
   "metadata": {},
   "outputs": [
    {
     "data": {
      "text/plain": [
       "array([[-1.30653407e+00, -1.85064099e+00,  8.95623122e-01,\n",
       "         7.63804802e-02],\n",
       "       [-1.67419581e+00,  1.13872896e+00,  8.57296491e-01,\n",
       "         8.25029824e-01],\n",
       "       [-1.89148284e-03,  1.06821044e+00,  7.73703613e-01,\n",
       "        -1.39662042e+00],\n",
       "       [-2.79308500e+00,  1.10863359e+00,  1.16755486e+00,\n",
       "         1.93752881e+00],\n",
       "       [-3.44987210e-01,  7.71514409e-01,  3.45715997e-01,\n",
       "        -2.30839743e-01],\n",
       "       [-7.01344426e-01, -1.11469020e+00,  1.13545112e+00,\n",
       "        -5.37223024e-01],\n",
       "       [-2.36436952e-01, -9.33557290e-01,  9.97855163e-01,\n",
       "         7.27813500e-01],\n",
       "       [-4.75372875e-01, -8.73535822e-01,  8.71225789e-01,\n",
       "         4.77610182e-01],\n",
       "       [-3.53679249e-02, -1.47533915e+00,  8.61462558e-01,\n",
       "         2.11060505e+00],\n",
       "       [-1.23685338e+00,  9.64350564e-01,  1.77547698e+00,\n",
       "         8.75838928e-01],\n",
       "       [ 3.67231814e-01, -1.01366961e+00,  4.73307772e-01,\n",
       "         1.23289919e+00],\n",
       "       [ 1.55880554e+00,  1.08480038e+00,  1.64661853e+00,\n",
       "         1.09402696e-01],\n",
       "       [ 6.54580153e-01, -9.07318361e-01,  1.06040861e+00,\n",
       "        -5.11884476e-02],\n",
       "       [-7.00398505e-01,  9.03945451e-01,  3.54133613e-01,\n",
       "        -2.03394449e-01],\n",
       "       [-1.95057341e-01, -1.21258781e+00,  9.29250600e-01,\n",
       "         8.05393424e-01],\n",
       "       [-9.97019796e-01, -4.93856997e-01,  1.66752297e+00,\n",
       "        -1.06793987e-01],\n",
       "       [ 2.18628366e-02, -1.04948638e+00,  8.78643802e-01,\n",
       "        -4.68673816e-01],\n",
       "       [ 7.95026094e-01,  9.15884042e-01,  7.90323893e-01,\n",
       "        -3.74438319e-01],\n",
       "       [-1.68198840e-01, -1.29936179e+00,  8.53355545e-01,\n",
       "        -1.74180344e-01],\n",
       "       [ 8.36004719e-01,  1.00277655e+00,  1.24549398e+00,\n",
       "         1.54335911e+00],\n",
       "       [-8.45080274e-02,  9.98545187e-01,  6.81889336e-01,\n",
       "        -2.97361883e-01],\n",
       "       [ 4.29526140e-01,  1.03334100e+00,  1.18559003e+00,\n",
       "        -6.06998398e-01],\n",
       "       [-1.44087602e+00,  1.03436581e+00,  2.07582971e+00,\n",
       "         1.23225307e+00],\n",
       "       [-1.11647002e+00,  1.05765490e+00,  9.71395338e-01,\n",
       "         8.09271010e-02],\n",
       "       [ 1.34048197e-01,  7.51480619e-01,  1.06702918e+00,\n",
       "         1.20205486e+00],\n",
       "       [ 2.05117344e+00,  8.78099103e-01,  8.95510508e-01,\n",
       "         5.85662000e-01],\n",
       "       [ 4.38166347e-01, -1.73963799e+00,  1.22867367e+00,\n",
       "         1.12232832e+00],\n",
       "       [-1.15985185e-01, -1.20376927e+00,  7.88018455e-01,\n",
       "        -1.75458969e-01],\n",
       "       [-9.33914656e-01, -5.78962302e-01,  1.32720112e+00,\n",
       "        -5.33020326e-01],\n",
       "       [ 6.18539131e-01,  7.04557071e-01,  1.39198128e+00,\n",
       "        -4.43171931e-01],\n",
       "       [ 1.38877940e+00, -6.23732812e-01,  1.25704434e+00,\n",
       "        -6.61344243e-01],\n",
       "       [ 9.54250872e-02,  1.32970299e+00,  1.58463774e+00,\n",
       "         9.21450069e-01],\n",
       "       [-1.20464572e-01,  1.17899425e+00,  1.17867274e+00,\n",
       "        -1.23312074e+00],\n",
       "       [ 6.21803504e-01,  8.25506954e-01,  5.58538729e-01,\n",
       "        -5.99804531e-01],\n",
       "       [-4.22856961e-01, -1.27861800e+00,  9.83799588e-01,\n",
       "         8.64644065e-02],\n",
       "       [ 6.17985534e-01, -1.44620987e+00,  6.67591795e-01,\n",
       "        -1.84176326e-01],\n",
       "       [ 1.06222724e-01,  1.17456965e+00,  6.92114488e-01,\n",
       "        -1.52568032e+00],\n",
       "       [-1.87316098e+00, -1.09230828e+00,  9.26869810e-01,\n",
       "         9.20615118e-01],\n",
       "       [ 4.61164100e-01, -9.17664624e-01,  1.01195228e+00,\n",
       "        -1.17598267e+00],\n",
       "       [-4.48738033e-01, -5.47062239e-01,  4.67397905e-01,\n",
       "        -6.72448039e-01],\n",
       "       [ 1.45142926e+00, -1.64162479e+00,  7.61706684e-01,\n",
       "        -6.18036848e-01],\n",
       "       [ 4.92336556e-01,  9.59288190e-01,  1.03967316e+00,\n",
       "        -6.80678141e-01],\n",
       "       [ 1.33526763e-02,  9.36403332e-01,  6.23629500e-01,\n",
       "        -6.94693595e-01],\n",
       "       [-2.03720123e+00, -6.82430193e-01,  1.44682180e+00,\n",
       "        -1.94258918e+00],\n",
       "       [-1.86578994e-01,  9.08526041e-01,  9.67037267e-01,\n",
       "        -5.68244809e-02],\n",
       "       [-2.54179868e-01,  1.23187251e+00,  6.25673373e-01,\n",
       "         1.39984394e+00],\n",
       "       [ 4.17302005e-01,  7.86556511e-01,  7.75285326e-01,\n",
       "         7.84770651e-01],\n",
       "       [-7.81911683e-01,  8.27987371e-01,  8.48069266e-01,\n",
       "        -4.37508983e-01],\n",
       "       [ 4.51615951e-01, -9.68539694e-01,  1.27991386e+00,\n",
       "         1.10417433e+00],\n",
       "       [-1.42655542e+00, -1.36419132e+00,  1.21619061e+00,\n",
       "         1.76795995e+00],\n",
       "       [-1.35977326e-01, -1.18913787e+00,  6.23688521e-01,\n",
       "        -7.97269785e-01],\n",
       "       [-3.26499498e-01,  1.24328724e+00,  1.07258847e+00,\n",
       "        -1.34267579e+00],\n",
       "       [ 3.66332015e-01,  6.06604307e-01,  5.69983848e-01,\n",
       "        -1.04458938e+00],\n",
       "       [ 1.12341216e+00, -1.23017555e+00,  1.06523311e+00,\n",
       "         3.05267040e-01],\n",
       "       [ 6.21082701e-01, -7.60458095e-01,  6.13636707e-01,\n",
       "         9.56121704e-01],\n",
       "       [ 1.83471763e+00, -1.39003042e+00,  8.57719529e-01,\n",
       "         5.64382855e-01],\n",
       "       [ 8.52704062e-01, -1.88873982e+00,  4.41189807e-01,\n",
       "         3.53600971e-02],\n",
       "       [-7.05840507e-01, -1.46662161e+00,  8.78740711e-01,\n",
       "         1.19268607e+00],\n",
       "       [-1.75592564e+00, -8.89487596e-01,  1.34728643e+00,\n",
       "         7.14789597e-01],\n",
       "       [ 2.76499305e-01,  8.50637963e-01,  4.46895161e-01,\n",
       "        -7.33271604e-01],\n",
       "       [ 2.42669441e-01,  8.21783210e-01,  1.18947778e+00,\n",
       "         2.01830179e-01],\n",
       "       [-1.53879325e+00, -9.84377246e-01,  9.36211246e-01,\n",
       "        -4.47895185e-01],\n",
       "       [ 2.06578332e+00,  1.15080755e+00,  1.02242019e+00,\n",
       "        -1.47115693e+00],\n",
       "       [ 2.13782807e+00, -1.53556118e+00,  1.05936450e-01,\n",
       "        -7.85533997e-01],\n",
       "       [-8.61316361e-01,  1.06796368e+00,  5.63077902e-01,\n",
       "         6.74711526e-01],\n",
       "       [ 1.81053491e+00,  1.17718111e+00,  1.14377130e+00,\n",
       "        -1.30572692e+00],\n",
       "       [ 2.84748111e-01,  8.14051347e-01,  8.88838813e-01,\n",
       "         2.62467445e-01],\n",
       "       [ 5.15073614e-01, -8.49830738e-01,  7.22978007e-01,\n",
       "        -2.78253447e+00],\n",
       "       [ 3.03085711e+00, -1.13742855e+00,  6.21530991e-01,\n",
       "         8.24584625e-01],\n",
       "       [-4.11639163e-01, -6.27546260e-01,  1.37661405e+00,\n",
       "         1.27852808e+00],\n",
       "       [-4.98213564e-01,  1.21828168e+00,  9.64572049e-01,\n",
       "        -3.10984978e-01],\n",
       "       [-2.79097722e-01,  1.02600767e+00,  8.72267394e-01,\n",
       "         1.62284909e+00],\n",
       "       [ 6.07501958e-02,  8.82393314e-01,  7.00175710e-01,\n",
       "         2.11124755e-01],\n",
       "       [-2.50644065e+00, -8.49671873e-01,  8.88389445e-01,\n",
       "        -2.11416392e+00],\n",
       "       [-9.55425262e-01,  8.49176066e-01,  1.36586461e+00,\n",
       "         5.85910431e-01],\n",
       "       [-5.57494722e-01, -1.68450770e+00,  1.32857949e+00,\n",
       "         9.39168744e-01],\n",
       "       [-8.30171895e-01,  9.44595066e-01,  1.12641981e+00,\n",
       "        -8.80577600e-01],\n",
       "       [-8.77281519e-01,  6.17714185e-01,  1.02817479e+00,\n",
       "        -8.67787223e-01],\n",
       "       [-4.42229280e-01, -1.20257258e+00,  6.91743730e-01,\n",
       "         3.23527354e-01],\n",
       "       [-1.21974440e+00,  1.17353145e+00,  1.14809657e+00,\n",
       "         2.44936865e+00],\n",
       "       [-2.14246673e+00, -1.44189096e+00,  1.09488485e+00,\n",
       "        -8.30168864e-01],\n",
       "       [-1.02188594e+00, -1.23912256e+00,  9.47814113e-01,\n",
       "         7.94528240e-01],\n",
       "       [ 5.84646610e-01, -6.72049816e-01,  8.58774962e-01,\n",
       "         3.24274243e-01],\n",
       "       [ 1.61694960e+00,  1.10018476e+00,  9.80427414e-01,\n",
       "         5.02740882e-01],\n",
       "       [ 1.56263850e-01, -1.18013412e+00,  1.12062155e+00,\n",
       "        -1.90221025e-01],\n",
       "       [-1.94332341e+00, -1.14722826e+00,  8.88611457e-01,\n",
       "         3.52494364e-01],\n",
       "       [ 1.01012718e+00, -1.42203164e+00,  1.01177337e+00,\n",
       "         9.20017933e-01],\n",
       "       [ 1.40754000e+00,  1.22382712e+00,  1.98519313e+00,\n",
       "         1.29101580e-01],\n",
       "       [ 1.65275673e-02,  8.41467206e-01,  8.98917161e-01,\n",
       "         1.77187720e-01],\n",
       "       [-5.45774168e-01,  8.91891405e-01,  8.76994650e-01,\n",
       "        -1.98837863e-01],\n",
       "       [ 8.53281222e-01, -1.15649503e+00,  8.59823751e-01,\n",
       "        -4.13029310e-01],\n",
       "       [ 2.82675712e-01, -9.44959948e-01,  6.10942600e-01,\n",
       "        -8.26097432e-01],\n",
       "       [-2.37941936e-01, -8.82869820e-01,  8.15836116e-01,\n",
       "         1.15528789e+00],\n",
       "       [-1.18231813e+00,  9.31717197e-01,  7.83440538e-01,\n",
       "        -6.65754518e-01],\n",
       "       [ 1.11438298e+00,  1.32551412e+00,  1.83829400e+00,\n",
       "        -5.86523939e-01],\n",
       "       [-7.25597119e-01, -5.42459922e-01,  1.34740825e+00,\n",
       "        -8.67768678e-01],\n",
       "       [ 6.23362177e-01,  1.01313574e+00,  1.16777676e+00,\n",
       "        -4.34956683e-01],\n",
       "       [ 6.61020288e-01,  1.03345052e+00,  1.46893146e+00,\n",
       "         1.79215821e+00],\n",
       "       [ 7.58805660e-01,  9.65482331e-01,  1.18468624e+00,\n",
       "         8.84908814e-01],\n",
       "       [-1.09991490e-01, -1.03048932e+00,  6.18390447e-01,\n",
       "         8.54894544e-03]])"
      ]
     },
     "execution_count": 26,
     "metadata": {},
     "output_type": "execute_result"
    }
   ],
   "source": [
    "X"
   ]
  },
  {
   "cell_type": "code",
   "execution_count": 27,
   "id": "760e89c6",
   "metadata": {},
   "outputs": [
    {
     "data": {
      "text/plain": [
       "array([1, 0, 0, 0, 0, 1, 1, 1, 1, 0, 1, 0, 1, 0, 1, 1, 1, 0, 1, 0, 0, 0,\n",
       "       0, 0, 0, 0, 1, 1, 1, 0, 1, 0, 0, 0, 1, 1, 0, 1, 1, 1, 1, 0, 0, 1,\n",
       "       0, 0, 0, 0, 1, 1, 1, 0, 0, 1, 1, 1, 1, 1, 1, 0, 0, 1, 0, 1, 0, 0,\n",
       "       0, 1, 1, 1, 0, 0, 0, 1, 0, 1, 0, 0, 1, 0, 1, 1, 1, 0, 1, 1, 1, 0,\n",
       "       0, 0, 1, 1, 1, 0, 0, 1, 0, 0, 0, 1])"
      ]
     },
     "execution_count": 27,
     "metadata": {},
     "output_type": "execute_result"
    }
   ],
   "source": [
    "y"
   ]
  },
  {
   "cell_type": "code",
   "execution_count": null,
   "id": "b27b8300",
   "metadata": {},
   "outputs": [],
   "source": []
  }
 ],
 "metadata": {
  "kernelspec": {
   "display_name": "Python 3 (ipykernel)",
   "language": "python",
   "name": "python3"
  },
  "language_info": {
   "codemirror_mode": {
    "name": "ipython",
    "version": 3
   },
   "file_extension": ".py",
   "mimetype": "text/x-python",
   "name": "python",
   "nbconvert_exporter": "python",
   "pygments_lexer": "ipython3",
   "version": "3.11.1"
  }
 },
 "nbformat": 4,
 "nbformat_minor": 5
}
