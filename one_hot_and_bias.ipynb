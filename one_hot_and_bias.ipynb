{
 "cells": [
  {
   "cell_type": "code",
   "execution_count": 1,
   "id": "95b0681e",
   "metadata": {},
   "outputs": [
    {
     "name": "stdout",
     "output_type": "stream",
     "text": [
      "Original DataFrame:\n",
      "   color\n",
      "0    red\n",
      "1  green\n",
      "2   blue\n",
      "3    red\n",
      "4  green\n",
      "Encoded DataFrame:\n",
      "   color_blue  color_green  color_red\n",
      "0           0            0          1\n",
      "1           0            1          0\n",
      "2           1            0          0\n",
      "3           0            0          1\n",
      "4           0            1          0\n"
     ]
    }
   ],
   "source": [
    "import pandas as pd\n",
    "\n",
    "# 创建一个包含类别数据的数据框\n",
    "data = {'color': ['red', 'green', 'blue', 'red', 'green']}\n",
    "df = pd.DataFrame(data)\n",
    "\n",
    "# 查看原始数据框\n",
    "print('Original DataFrame:')\n",
    "print(df)\n",
    "\n",
    "# 使用 pandas 的 get_dummies 函数进行独热编码\n",
    "df_encoded = pd.get_dummies(df)\n",
    "\n",
    "# 查看编码后的数据框\n",
    "print('Encoded DataFrame:')\n",
    "print(df_encoded)"
   ]
  },
  {
   "cell_type": "code",
   "execution_count": 2,
   "id": "f87683b1",
   "metadata": {},
   "outputs": [
    {
     "name": "stdout",
     "output_type": "stream",
     "text": [
      "Looking in indexes: https://pypi.tuna.tsinghua.edu.cn/simple/, http://mirrors.aliyun.com/pypi/simple/, http://pypi.douban.com/simple, http://pypi.mirrors.ustc.edu.cn/simple/Note: you may need to restart the kernel to use updated packages.\n",
      "\n",
      "Requirement already satisfied: scikit-learn in c:\\users\\sunya\\appdata\\local\\programs\\python\\python311\\lib\\site-packages (1.2.1)\n",
      "Requirement already satisfied: numpy>=1.17.3 in c:\\users\\sunya\\appdata\\local\\programs\\python\\python311\\lib\\site-packages (from scikit-learn) (1.24.1)\n",
      "Requirement already satisfied: scipy>=1.3.2 in c:\\users\\sunya\\appdata\\local\\programs\\python\\python311\\lib\\site-packages (from scikit-learn) (1.10.1)\n",
      "Requirement already satisfied: joblib>=1.1.1 in c:\\users\\sunya\\appdata\\local\\programs\\python\\python311\\lib\\site-packages (from scikit-learn) (1.2.0)\n",
      "Requirement already satisfied: threadpoolctl>=2.0.0 in c:\\users\\sunya\\appdata\\local\\programs\\python\\python311\\lib\\site-packages (from scikit-learn) (3.1.0)\n"
     ]
    }
   ],
   "source": [
    "pip install scikit-learn"
   ]
  },
  {
   "cell_type": "code",
   "execution_count": 3,
   "id": "c253157b",
   "metadata": {},
   "outputs": [
    {
     "name": "stdout",
     "output_type": "stream",
     "text": [
      "[0.7661709  0.95014867 0.89169925 0.85918076 0.87250909]\n"
     ]
    }
   ],
   "source": [
    "from sklearn.model_selection import cross_val_score\n",
    "from sklearn.linear_model import LinearRegression\n",
    "import numpy as np\n",
    "\n",
    "# 生成一些样本数据\n",
    "np.random.seed(0)\n",
    "X = np.random.randn(100, 1)\n",
    "y = 3 * X.squeeze() + 2 + np.random.randn(100)\n",
    "\n",
    "# 创建一个线性回归模型\n",
    "model = LinearRegression()\n",
    "\n",
    "# 使用交叉验证来估计模型在新数据上的表现\n",
    "scores = cross_val_score(model, X, y, cv=5)\n",
    "\n",
    "# 输出结果\n",
    "print(scores)"
   ]
  },
  {
   "cell_type": "code",
   "execution_count": null,
   "id": "0a3efdc6",
   "metadata": {},
   "outputs": [],
   "source": []
  }
 ],
 "metadata": {
  "kernelspec": {
   "display_name": "Python 3 (ipykernel)",
   "language": "python",
   "name": "python3"
  },
  "language_info": {
   "codemirror_mode": {
    "name": "ipython",
    "version": 3
   },
   "file_extension": ".py",
   "mimetype": "text/x-python",
   "name": "python",
   "nbconvert_exporter": "python",
   "pygments_lexer": "ipython3",
   "version": "3.11.1"
  }
 },
 "nbformat": 4,
 "nbformat_minor": 5
}
